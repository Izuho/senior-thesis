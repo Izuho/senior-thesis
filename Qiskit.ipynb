{
  "nbformat": 4,
  "nbformat_minor": 0,
  "metadata": {
    "colab": {
      "provenance": [],
      "collapsed_sections": [],
      "authorship_tag": "ABX9TyMf5mndkb2N+bqlqdClCQLN",
      "include_colab_link": true
    },
    "kernelspec": {
      "name": "python3",
      "display_name": "Python 3"
    },
    "language_info": {
      "name": "python"
    }
  },
  "cells": [
    {
      "cell_type": "markdown",
      "metadata": {
        "id": "view-in-github",
        "colab_type": "text"
      },
      "source": [
        "<a href=\"https://colab.research.google.com/github/Izuho/senior-thesis/blob/main/Qiskit.ipynb\" target=\"_parent\"><img src=\"https://colab.research.google.com/assets/colab-badge.svg\" alt=\"Open In Colab\"/></a>"
      ]
    },
    {
      "cell_type": "code",
      "execution_count": null,
      "metadata": {
        "id": "r1Rtg6Uzdubq"
      },
      "outputs": [],
      "source": [
        "import numpy as np\n",
        "\n",
        "# Importing standard Qiskit libraries\n",
        "from qiskit import QuantumCircuit, transpile, Aer, IBMQ\n",
        "from qiskit.tools.jupyter import *\n",
        "from qiskit.visualization import *\n",
        "from ibm_quantum_widgets import *\n",
        "from qiskit.providers.aer import QasmSimulator\n",
        "\n",
        "# Loading your IBM Quantum account(s)\n",
        "provider = IBMQ.load_account()"
      ]
    },
    {
      "cell_type": "code",
      "source": [
        "X1 = np.load('data/mnist_train_feat.npy')[0:3]\n",
        "y1 = np.load('data/mnist_train_Label.npy')[0:3]\n",
        "X2 = np.load('data/mnist_test_feat.npy')[0:2]\n",
        "y2 = np.load('data/mnist_test_Label.npy')[0:2]\n",
        "print(X1.shape, y1.shape)"
      ],
      "metadata": {
        "id": "eNZIQtsjd2Xc"
      },
      "execution_count": null,
      "outputs": []
    },
    {
      "cell_type": "code",
      "source": [
        "from qiskit.circuit import Parameter\n",
        "\n",
        "def fraxis_gate(nx, ny, nz=None):\n",
        "    nx, ny, nz = _validate(nx, ny, nz)\n",
        "    theta = 2*np.arccos(nz)\n",
        "    phi = 0\n",
        "    if np.sin(theta/2)>1e-31:\n",
        "        if nx/np.sin(theta/2)<=1:\n",
        "            phi = np.arccos(nx/np.sin(theta/2)) if ny>=0 else np.pi-np.arccos(nx/np.sin(theta/2))\n",
        "    circ = QuantumCircuit(1)\n",
        "    circ.u(theta, phi, np.pi-phi,[0])\n",
        "    return circ\n",
        "\n",
        "def _validate(nx, ny, nz=None):\n",
        "    if nz == None:\n",
        "        nx = nx.real\n",
        "        ny = ny.real\n",
        "        nz2 = 1-nx**2.-ny**2.\n",
        "        nz = np.sqrt(nz2).real if nz2>0 else 0\n",
        "    return nx, ny, nz"
      ],
      "metadata": {
        "id": "rSHQQJLcd5WH"
      },
      "execution_count": null,
      "outputs": []
    },
    {
      "cell_type": "code",
      "source": [
        "def FraxisFeatureMap(num_qubits, data):\n",
        "    circ = QuantumCircuit(num_qubits)\n",
        "    for i in range(\n",
        "        data.shape[0]//2\n",
        "    ):\n",
        "        circ.compose(fraxis_gate(data[2*i], data[2*i+1]), qubits=[i%num_qubits], inplace=True)\n",
        "        if (i+1)%num_qubits == 0:\n",
        "            for j in range(0,num_qubits,2):\n",
        "                if j+1 < num_qubits:\n",
        "                    circ.cz(j,j+1)\n",
        "            for j in range(1,num_qubits,2):\n",
        "                if j+1 < num_qubits:\n",
        "                    circ.cz(j,j+1)        \n",
        "    return circ"
      ],
      "metadata": {
        "id": "jfbdwQBNd8XX"
      },
      "execution_count": null,
      "outputs": []
    },
    {
      "cell_type": "code",
      "source": [
        "def FraxisAnsatz(num_qubits, params):\n",
        "    circ = QuantumCircuit(num_qubits)\n",
        "    for i in range(num_qubits):\n",
        "        circ.compose(fraxis_gate(params[i,0], params[i,1]), qubits=[i], inplace=True)\n",
        "    for j in range(0,num_qubits,2):\n",
        "        if j+1 < num_qubits:\n",
        "            circ.cz(j,j+1)\n",
        "    for j in range(1,num_qubits,2):\n",
        "        if j+1 < num_qubits:\n",
        "            circ.cz(j,j+1)        \n",
        "    return circ"
      ],
      "metadata": {
        "id": "ib2uSi2feALC"
      },
      "execution_count": null,
      "outputs": []
    },
    {
      "cell_type": "code",
      "source": [
        "def replace_FraxisAnsatz(num_qubits, target, params):\n",
        "    circX = QuantumCircuit(num_qubits)\n",
        "    circY = QuantumCircuit(num_qubits)\n",
        "    circZ = QuantumCircuit(num_qubits)\n",
        "    circXY = QuantumCircuit(num_qubits)\n",
        "    circXZ = QuantumCircuit(num_qubits)\n",
        "    circYZ = QuantumCircuit(num_qubits)\n",
        "    for i in range(target):\n",
        "        circX.compose(fraxis_gate(params[i,0], params[i,1]), qubits=[i], inplace=True)\n",
        "        circY.compose(fraxis_gate(params[i,0], params[i,1]), qubits=[i], inplace=True)\n",
        "        circZ.compose(fraxis_gate(params[i,0], params[i,1]), qubits=[i], inplace=True)\n",
        "        circXY.compose(fraxis_gate(params[i,0], params[i,1]), qubits=[i], inplace=True)\n",
        "        circXZ.compose(fraxis_gate(params[i,0], params[i,1]), qubits=[i], inplace=True)\n",
        "        circYZ.compose(fraxis_gate(params[i,0], params[i,1]), qubits=[i], inplace=True)\n",
        "    circX.x(target)\n",
        "    circY.y(target)\n",
        "    circZ.z(target)\n",
        "    circXY.u(np.pi, np.pi*0.25, np.pi*0.75, target)\n",
        "    circXZ.u(np.pi*0.5, 0, np.pi, target)\n",
        "    circYZ.u(np.pi*0.5, np.pi*0.5, np.pi*0.5, target)\n",
        "    for i in range(target+1, num_qubits, 1):\n",
        "        circX.compose(fraxis_gate(params[i,0], params[i,1]), qubits=[i], inplace=True)\n",
        "        circY.compose(fraxis_gate(params[i,0], params[i,1]), qubits=[i], inplace=True)\n",
        "        circZ.compose(fraxis_gate(params[i,0], params[i,1]), qubits=[i], inplace=True)\n",
        "        circXY.compose(fraxis_gate(params[i,0], params[i,1]), qubits=[i], inplace=True)\n",
        "        circXZ.compose(fraxis_gate(params[i,0], params[i,1]), qubits=[i], inplace=True)\n",
        "        circYZ.compose(fraxis_gate(params[i,0], params[i,1]), qubits=[i], inplace=True)\n",
        "    for j in range(0,num_qubits,2):\n",
        "        if j+1 < num_qubits:\n",
        "            circX.cz(j,j+1)\n",
        "            circY.cz(j,j+1)\n",
        "            circZ.cz(j,j+1)\n",
        "            circXY.cz(j,j+1)\n",
        "            circXZ.cz(j,j+1)\n",
        "            circYZ.cz(j,j+1)\n",
        "    for j in range(1,num_qubits,2):\n",
        "        if j+1 < num_qubits:\n",
        "            circX.cz(j,j+1)\n",
        "            circY.cz(j,j+1)\n",
        "            circZ.cz(j,j+1)\n",
        "            circXY.cz(j,j+1)\n",
        "            circXZ.cz(j,j+1)\n",
        "            circYZ.cz(j,j+1)\n",
        "    return [circX, circY, circZ, circXY, circXZ, circYZ]"
      ],
      "metadata": {
        "id": "50rN7keCeDVv"
      },
      "execution_count": null,
      "outputs": []
    },
    {
      "cell_type": "code",
      "source": [
        "#from qiskit_ibm_runtime import Estimator, QiskitRuntimeService, Session\n",
        "from qiskit.primitives import Estimator\n",
        "from qiskit.quantum_info import SparsePauliOp\n",
        "\n",
        "class FraxClassify():\n",
        "    def __init__(self, n_qubits, layer_size, world_size, service):\n",
        "        self.n_qubits = n_qubits\n",
        "        self.layer_size = layer_size\n",
        "        self.params = np.zeros((layer_size, n_qubits, 2)) + 1/np.sqrt(3)\n",
        "        #np.random.rand(layer_size, n_qubits, 2) / 2\n",
        "        self.world_size =world_size\n",
        "        self.service = service\n",
        "    def fit_and_eval(self, X, y, X2, y2):\n",
        "        observable = SparsePauliOp.from_list([(\"I\"* (self.n_qubits-1)+\"Z\", 1)])\n",
        "        '''\n",
        "        with Session(\n",
        "            #service=None, \n",
        "            backend=\"ibmq_qasm_simulator\"\n",
        "        ) as session:\n",
        "        '''\n",
        "        estimator = Estimator(\n",
        "        #    session=session\n",
        "        )\n",
        "        for a in range(self.layer_size):\n",
        "            for b in range(self.n_qubits):\n",
        "                R = np.zeros((3,3))\n",
        "                for c in range(y.shape[0]):\n",
        "                    feature_map = FraxisFeatureMap(self.n_qubits, X[c])\n",
        "                    qcs = []\n",
        "                    for d in range(6):\n",
        "                        qcs.append(QuantumCircuit(self.n_qubits))\n",
        "                    for d in range(a):\n",
        "                        for e in range(6):\n",
        "                            qcs[e].compose(feature_map, inplace=True)\n",
        "                            \n",
        "                        original_ansatz = FraxisAnsatz(self.n_qubits, self.params[d])\n",
        "                        for e in range(6):\n",
        "                            qcs[e].compose(original_ansatz, inplace=True)\n",
        "\n",
        "                    for d in range(6):\n",
        "                        qcs[d].compose(feature_map, inplace=True)\n",
        "                        \n",
        "                    ansatzs = replace_FraxisAnsatz(self.n_qubits, b, self.params[a])\n",
        "                    for d in range(6):\n",
        "                        qcs[d].compose(ansatzs[d], inplace=True)\n",
        "                                        \n",
        "                    for d in range(a+1,self.layer_size,1):\n",
        "                        for e in range(6):\n",
        "                            qcs[e].compose(feature_map, inplace=True)\n",
        "                            \n",
        "                        original_ansatz = FraxisAnsatz(self.n_qubits, self.params[d])\n",
        "                        for e in range(6):\n",
        "                            qcs[e].compose(original_ansatz, inplace=True)\n",
        "\n",
        "                    r6 = estimator.run(\n",
        "                        circuits=qcs,\n",
        "                        observables=[observable]*6,\n",
        "                    ).result().values\n",
        "                    \n",
        "                    #print(r6)\n",
        "                    \n",
        "                    rx, ry, rz, rxy, rxz, ryz = r6[0], r6[1], r6[2], r6[3], r6[4], r6[5]\n",
        "                    R[0,0] += y[c] * 2 * rx\n",
        "                    R[0,1] += y[c] * (2 * rxy - rx - ry)\n",
        "                    R[0,2] += y[c] * (2 * rxz - rx - rz)\n",
        "                    R[1,1] += y[c] * 2 * ry\n",
        "                    R[1,2] += y[c] * (2 * ryz - ry - rz)\n",
        "                    R[2,2] += y[c] * 2 * rz                 \n",
        "                R[1,0] = R[0,1]\n",
        "                R[2,0] = R[0,2]\n",
        "                R[2,1] = R[1,2]\n",
        "                #print(R)\n",
        "                eigenvalues, eigenvectors = np.linalg.eigh(R)\n",
        "                self.params[a,b,:] = eigenvectors[0:2,np.argmax(eigenvalues)]\n",
        "                print(np.max(eigenvalues))\n",
        "                \n",
        "        acc, score, acc2, score2 = 0,0,0,0\n",
        "        for a in range(X.shape[0]):\n",
        "            qc = QuantumCircuit(self.n_qubits)\n",
        "            feature_map = FraxisFeatureMap(self.n_qubits, X[a])\n",
        "            for b in range(self.layer_size):\n",
        "                qc.compose(feature_map, inplace=True)\n",
        "                qc.compose(FraxisAnsatz(self.n_qubits, self.params[b]), inplace=True)\n",
        "            result = estimator.run(\n",
        "                circuits=[qc], \n",
        "                observables=[observable]\n",
        "            ).result().values\n",
        "            if y[a] * result > 0:\n",
        "                acc += 1\n",
        "            score += y[a] * result\n",
        "        for a in range(X2.shape[0]):\n",
        "            qc = QuantumCircuit(self.n_qubits)\n",
        "            feature_map = FraxisFeatureMap(self.n_qubits, X2[a])\n",
        "            for b in range(self.layer_size):\n",
        "                qc.compose(feature_map, inplace=True)\n",
        "                qc.compose(FraxisAnsatz(self.n_qubits, self.params[b]), inplace=True)\n",
        "            result = estimator.run(\n",
        "                circuits=[qc], \n",
        "                observables=[observable]\n",
        "            ).result().values\n",
        "            if y2[a] * result > 0:\n",
        "                acc2 += 1\n",
        "            score2 += y2[a] * result\n",
        "        print(acc, score*2, acc2, score2*2)"
      ],
      "metadata": {
        "id": "5PC61-DqeGZB"
      },
      "execution_count": null,
      "outputs": []
    },
    {
      "cell_type": "code",
      "source": [
        "model = FraxClassify(6, 2, None, None)\n",
        "for i in range(5):\n",
        "    model.fit_and_eval(X1, y1, X2, y2)"
      ],
      "metadata": {
        "id": "J8RbWMmQeJ8i"
      },
      "execution_count": null,
      "outputs": []
    }
  ]
}