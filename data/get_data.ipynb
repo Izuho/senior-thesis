{
  "nbformat": 4,
  "nbformat_minor": 0,
  "metadata": {
    "colab": {
      "provenance": [],
      "collapsed_sections": []
    },
    "kernelspec": {
      "name": "python3",
      "display_name": "Python 3"
    },
    "language_info": {
      "name": "python"
    }
  },
  "cells": [
    {
      "cell_type": "code",
      "execution_count": 13,
      "metadata": {
        "colab": {
          "base_uri": "https://localhost:8080/"
        },
        "id": "i9va6oFEGwhV",
        "outputId": "7c0d5e16-84f6-45d5-e255-079323b8cd7e"
      },
      "outputs": [
        {
          "output_type": "stream",
          "name": "stderr",
          "text": [
            "/usr/local/lib/python3.7/dist-packages/torchvision/datasets/mnist.py:75: UserWarning: train_data has been renamed data\n",
            "  warnings.warn(\"train_data has been renamed data\")\n",
            "/usr/local/lib/python3.7/dist-packages/torchvision/datasets/mnist.py:65: UserWarning: train_labels has been renamed targets\n",
            "  warnings.warn(\"train_labels has been renamed targets\")\n",
            "/usr/local/lib/python3.7/dist-packages/torchvision/datasets/mnist.py:80: UserWarning: test_data has been renamed data\n",
            "  warnings.warn(\"test_data has been renamed data\")\n",
            "/usr/local/lib/python3.7/dist-packages/torchvision/datasets/mnist.py:70: UserWarning: test_labels has been renamed targets\n",
            "  warnings.warn(\"test_labels has been renamed targets\")\n"
          ]
        }
      ],
      "source": [
        "import os\n",
        "import numpy as np\n",
        "from torchvision import datasets, transforms\n",
        "mnist_train = datasets.MNIST(\n",
        "    root='./data',\n",
        "    #C:\\Users\\hodoy\\.spyder-py3\n",
        "    download=True,\n",
        "    train=True,\n",
        "    transform=transforms.Compose([\n",
        "        transforms.ToTensor()\n",
        "    ])\n",
        ")\n",
        "mnist_test = datasets.MNIST(\n",
        "    root='./data',\n",
        "    download=True,\n",
        "    train=False,\n",
        "    transform=transforms.Compose([\n",
        "        transforms.ToTensor()\n",
        "    ])\n",
        ")\n",
        "\n",
        "x_train = mnist_train.train_data.numpy()\n",
        "y_train = mnist_train.train_labels.numpy()\n",
        "x_test = mnist_test.test_data.numpy()\n",
        "y_test = mnist_test.test_labels.numpy()\n",
        "\n",
        "x_train = x_train[np.where(y_train <= 1, True, False)]\n",
        "y_train = y_train[np.where(y_train <= 1, True, False)]\n",
        "x_test = x_test[np.where(y_test <= 1, True, False)]\n",
        "y_test = y_test[np.where(y_test <= 1, True, False)]"
      ]
    },
    {
      "cell_type": "code",
      "source": [
        "import cv2\n",
        "N = x_train.shape[0]\n",
        "M = x_test.shape[0]\n",
        "new_x_train = np.zeros((N,8,8))\n",
        "new_x_test = np.zeros((M,8,8))\n",
        "for i in range(N):\n",
        "    new_x_train[i] = cv2.resize(x_train[i], (8,8), cv2.INTER_AREA)\n",
        "for i in range(M):\n",
        "    new_x_test[i] = cv2.resize(x_test[i], (8,8), cv2.INTER_AREA)"
      ],
      "metadata": {
        "id": "VBHaQAFhG9fC"
      },
      "execution_count": 14,
      "outputs": []
    },
    {
      "cell_type": "code",
      "source": [
        "from google.colab.patches import cv2_imshow\n",
        "cv2_imshow(x_test[10])"
      ],
      "metadata": {
        "colab": {
          "base_uri": "https://localhost:8080/",
          "height": 45
        },
        "id": "pPtEjjY7CM0G",
        "outputId": "a475df45-cd07-4773-a3f5-d968ade6d69f"
      },
      "execution_count": 15,
      "outputs": [
        {
          "output_type": "display_data",
          "data": {
            "text/plain": [
              "<PIL.Image.Image image mode=L size=28x28 at 0x7F68BE6C5E10>"
            ],
            "image/png": "[encoded data removed]"
          },
          "metadata": {}
        }
      ]
    },
    {
      "cell_type": "code",
      "source": [
        "new_x_test = new_x_test[0:500]\n",
        "y_test = y_test[0:500]\n",
        "new_x_train = new_x_train[0:256]\n",
        "y_train = y_train[0:256]\n",
        "new2_x_test = new_x_test.reshape(-1,64)\n",
        "new2_x_train = new_x_train.reshape(-1,64)"
      ],
      "metadata": {
        "id": "0yEnAaaHEc-o"
      },
      "execution_count": 16,
      "outputs": []
    },
    {
      "cell_type": "code",
      "source": [
        "new3_x_test = new2_x_test / np.sqrt(np.sum(new2_x_test*new2_x_test, axis = 1)).reshape(-1,1)\n",
        "new3_x_train = new2_x_train / np.sqrt(np.sum(new2_x_train*new2_x_train, axis = 1)).reshape(-1,1)"
      ],
      "metadata": {
        "id": "GnNvRFJiBIa1"
      },
      "execution_count": 17,
      "outputs": []
    },
    {
      "cell_type": "code",
      "source": [
        "y_train = np.where(y_train < 1, -1, 1)\n",
        "y_test = np.where(y_test < 1, -1, 1)"
      ],
      "metadata": {
        "id": "QQPQ0z69hquv"
      },
      "execution_count": 20,
      "outputs": []
    },
    {
      "cell_type": "code",
      "source": [
        "y_train"
      ],
      "metadata": {
        "colab": {
          "base_uri": "https://localhost:8080/"
        },
        "id": "LclB50PpiO-7",
        "outputId": "b0ae4769-2d38-4a56-f573-e7e4b91e618a"
      },
      "execution_count": 21,
      "outputs": [
        {
          "output_type": "execute_result",
          "data": {
            "text/plain": [
              "array([-1,  1,  1,  1,  1, -1,  1,  1, -1, -1,  1, -1, -1,  1, -1,  1, -1,\n",
              "       -1,  1,  1, -1,  1,  1, -1, -1, -1,  1,  1,  1,  1, -1,  1,  1, -1,\n",
              "       -1, -1, -1,  1,  1,  1,  1, -1, -1,  1,  1,  1, -1,  1,  1,  1, -1,\n",
              "        1, -1, -1,  1, -1,  1, -1,  1, -1, -1, -1,  1, -1,  1, -1,  1,  1,\n",
              "        1, -1,  1, -1, -1, -1,  1,  1,  1, -1, -1,  1,  1,  1,  1,  1, -1,\n",
              "        1,  1,  1,  1,  1, -1,  1,  1,  1, -1, -1, -1, -1,  1,  1,  1, -1,\n",
              "       -1,  1,  1, -1, -1, -1,  1,  1, -1,  1,  1, -1,  1,  1,  1,  1,  1,\n",
              "       -1, -1, -1, -1,  1,  1,  1, -1,  1,  1,  1,  1,  1, -1, -1,  1,  1,\n",
              "       -1, -1,  1,  1, -1,  1, -1,  1,  1, -1,  1, -1, -1, -1, -1, -1, -1,\n",
              "        1,  1,  1, -1,  1,  1, -1, -1,  1,  1, -1, -1,  1, -1, -1,  1,  1,\n",
              "       -1,  1,  1, -1,  1, -1, -1,  1, -1,  1, -1,  1,  1,  1, -1, -1, -1,\n",
              "       -1,  1,  1, -1, -1,  1, -1,  1,  1,  1, -1,  1, -1, -1,  1, -1, -1,\n",
              "        1,  1, -1,  1, -1,  1, -1,  1, -1, -1,  1,  1,  1, -1,  1, -1, -1,\n",
              "       -1,  1, -1,  1, -1, -1,  1,  1,  1,  1,  1, -1, -1,  1,  1,  1,  1,\n",
              "       -1, -1,  1, -1, -1,  1,  1,  1, -1,  1,  1, -1,  1, -1,  1, -1,  1,\n",
              "       -1])"
            ]
          },
          "metadata": {},
          "execution_count": 21
        }
      ]
    },
    {
      "cell_type": "code",
      "source": [
        "save_root = './'\n",
        "if not os.path.exists(save_root):\n",
        "    os.mkdir(save_root)\n",
        "\n",
        "np.save(os.path.join(save_root, 'mnist_train_feat'), new3_x_train)\n",
        "np.save(os.path.join(save_root, 'mnist_train_Label'), y_train)\n",
        "np.save(os.path.join(save_root, 'mnist_test_feat'), new3_x_test)\n",
        "np.save(os.path.join(save_root, 'mnist_test_Label'), y_test)"
      ],
      "metadata": {
        "id": "_M60Jgj_G1NT"
      },
      "execution_count": 22,
      "outputs": []
    }
  ]
}