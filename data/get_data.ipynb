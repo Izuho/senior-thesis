{
  "nbformat": 4,
  "nbformat_minor": 0,
  "metadata": {
    "colab": {
      "provenance": [],
      "collapsed_sections": [],
      "mount_file_id": "1exV1Hvjz8hBUZiHZIIvhIBYZd47hkkju",
      "authorship_tag": "ABX9TyMIeTaBqSmai/tSbUEk2NXb",
      "include_colab_link": true
    },
    "kernelspec": {
      "name": "python3",
      "display_name": "Python 3"
    },
    "language_info": {
      "name": "python"
    }
  },
  "cells": [
    {
      "cell_type": "markdown",
      "metadata": {
        "id": "view-in-github",
        "colab_type": "text"
      },
      "source": [
        "<a href=\"https://colab.research.google.com/github/Izuho/senior-thesis/blob/main/data/get_data.ipynb\" target=\"_parent\"><img src=\"https://colab.research.google.com/assets/colab-badge.svg\" alt=\"Open In Colab\"/></a>"
      ]
    },
    {
      "cell_type": "code",
      "execution_count": 10,
      "metadata": {
        "colab": {
          "base_uri": "https://localhost:8080/"
        },
        "id": "i9va6oFEGwhV",
        "outputId": "6b97af62-ecbc-4355-8f71-99bfe8b9c8cd"
      },
      "outputs": [
        {
          "output_type": "stream",
          "name": "stderr",
          "text": [
            "/usr/local/lib/python3.7/dist-packages/torchvision/datasets/mnist.py:75: UserWarning: train_data has been renamed data\n",
            "  warnings.warn(\"train_data has been renamed data\")\n",
            "/usr/local/lib/python3.7/dist-packages/torchvision/datasets/mnist.py:65: UserWarning: train_labels has been renamed targets\n",
            "  warnings.warn(\"train_labels has been renamed targets\")\n",
            "/usr/local/lib/python3.7/dist-packages/torchvision/datasets/mnist.py:80: UserWarning: test_data has been renamed data\n",
            "  warnings.warn(\"test_data has been renamed data\")\n",
            "/usr/local/lib/python3.7/dist-packages/torchvision/datasets/mnist.py:70: UserWarning: test_labels has been renamed targets\n",
            "  warnings.warn(\"test_labels has been renamed targets\")\n"
          ]
        }
      ],
      "source": [
        "import os\n",
        "import numpy as np\n",
        "from torchvision import datasets, transforms\n",
        "mnist_train = datasets.MNIST(\n",
        "    root='./data',\n",
        "    download=True,\n",
        "    train=True,\n",
        "    transform=transforms.Compose([\n",
        "        transforms.ToTensor()\n",
        "    ])\n",
        ")\n",
        "mnist_test = datasets.MNIST(\n",
        "    root='./data',\n",
        "    download=True,\n",
        "    train=False,\n",
        "    transform=transforms.Compose([\n",
        "        transforms.ToTensor()\n",
        "    ])\n",
        ")\n",
        "\n",
        "x_train = mnist_train.train_data.numpy()\n",
        "y_train = mnist_train.train_labels.numpy()\n",
        "x_test = mnist_test.test_data.numpy()\n",
        "y_test = mnist_test.test_labels.numpy()\n",
        "\n",
        "x_train = x_train[np.where(y_train <= 1, True, False)]\n",
        "y_train = y_train[np.where(y_train <= 1, True, False)]\n",
        "x_test = x_test[np.where(y_test <= 1, True, False)]\n",
        "y_test = y_test[np.where(y_test <= 1, True, False)]"
      ]
    },
    {
      "cell_type": "code",
      "source": [
        "import cv2\n",
        "N = x_train.shape[0]\n",
        "M = x_test.shape[0]\n",
        "new_x_train = np.zeros((N,8,8))\n",
        "new_x_test = np.zeros((M,8,8))\n",
        "for i in range(N):\n",
        "    new_x_train[i] = cv2.resize(x_train[i], (8,8), cv2.INTER_AREA)\n",
        "for i in range(M):\n",
        "    new_x_test[i] = cv2.resize(x_test[i], (8,8), cv2.INTER_AREA)"
      ],
      "metadata": {
        "id": "VBHaQAFhG9fC"
      },
      "execution_count": 11,
      "outputs": []
    },
    {
      "cell_type": "code",
      "source": [
        "from google.colab.patches import cv2_imshow\n",
        "cv2_imshow(x_test[17])"
      ],
      "metadata": {
        "colab": {
          "base_uri": "https://localhost:8080/",
          "height": 45
        },
        "id": "pPtEjjY7CM0G",
        "outputId": "9bdb9fd4-0816-47ac-abb3-99a221863f57"
      },
      "execution_count": 12,
      "outputs": [
        {
          "output_type": "display_data",
          "data": {
            "text/plain": [
              "<PIL.Image.Image image mode=L size=28x28 at 0x7FED89184550>"
            ],
            "image/png": "[encoded data removed]"
          },
          "metadata": {}
        }
      ]
    },
    {
      "cell_type": "code",
      "source": [
        "new2_x_test = new_x_test.reshape(-1,64)\n",
        "new2_x_train = new_x_train.reshape(-1,64)"
      ],
      "metadata": {
        "id": "0yEnAaaHEc-o"
      },
      "execution_count": 13,
      "outputs": []
    },
    {
      "cell_type": "code",
      "source": [
        "new3_x_test = new2_x_test / np.sqrt(np.sum(new2_x_test*new2_x_test, axis = 1)).reshape(-1,1)\n",
        "new3_x_train = new2_x_train / np.sqrt(np.sum(new2_x_train*new2_x_train, axis = 1)).reshape(-1,1)"
      ],
      "metadata": {
        "id": "GnNvRFJiBIa1"
      },
      "execution_count": 14,
      "outputs": []
    },
    {
      "cell_type": "code",
      "source": [
        "y_train = np.where(y_train < 1, -1, 1)\n",
        "y_test = np.where(y_test < 1, -1, 1)"
      ],
      "metadata": {
        "id": "QQPQ0z69hquv"
      },
      "execution_count": 15,
      "outputs": []
    },
    {
      "cell_type": "code",
      "source": [
        "y_train"
      ],
      "metadata": {
        "colab": {
          "base_uri": "https://localhost:8080/"
        },
        "id": "LclB50PpiO-7",
        "outputId": "8f1175c6-cc17-4723-d3d1-970d46dc5ad9"
      },
      "execution_count": 16,
      "outputs": [
        {
          "output_type": "execute_result",
          "data": {
            "text/plain": [
              "array([-1,  1,  1, ...,  1, -1,  1])"
            ]
          },
          "metadata": {},
          "execution_count": 16
        }
      ]
    },
    {
      "cell_type": "code",
      "source": [
        "save_root = './'\n",
        "if not os.path.exists(save_root):\n",
        "    os.mkdir(save_root)\n",
        "np.save(os.path.join(save_root, 'drive/MyDrive/mnist_train_feat'), new3_x_train)\n",
        "np.save(os.path.join(save_root, 'drive/MyDrive/mnist_train_Label'), y_train)\n",
        "np.save(os.path.join(save_root, 'drive/MyDrive/mnist_test_feat'), new3_x_test)\n",
        "np.save(os.path.join(save_root, 'drive/MyDrive/mnist_test_Label'), y_test)"
      ],
      "metadata": {
        "id": "_M60Jgj_G1NT"
      },
      "execution_count": 17,
      "outputs": []
    }
  ]
}