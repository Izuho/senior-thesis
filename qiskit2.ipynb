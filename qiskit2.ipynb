{
  "cells": [
    {
      "cell_type": "markdown",
      "metadata": {
        "id": "view-in-github",
        "colab_type": "text"
      },
      "source": [
        "<a href=\"https://colab.research.google.com/github/Izuho/senior-thesis/blob/main/qiskit2.ipynb\" target=\"_parent\"><img src=\"https://colab.research.google.com/assets/colab-badge.svg\" alt=\"Open In Colab\"/></a>"
      ]
    },
    {
      "cell_type": "code",
      "execution_count": 1,
      "id": "53fc4053-583d-467c-a757-86b929b3e1c6",
      "metadata": {
        "colab": {
          "base_uri": "https://localhost:8080/"
        },
        "id": "53fc4053-583d-467c-a757-86b929b3e1c6",
        "outputId": "8d12db3d-8801-4698-d539-3c47fc4ea9cc"
      },
      "outputs": [
        {
          "output_type": "stream",
          "name": "stdout",
          "text": [
            "Looking in indexes: https://pypi.org/simple, https://us-python.pkg.dev/colab-wheels/public/simple/\n",
            "Requirement already satisfied: qiskit in /usr/local/lib/python3.7/dist-packages (0.39.2)\n",
            "Requirement already satisfied: qiskit-ibmq-provider==0.19.2 in /usr/local/lib/python3.7/dist-packages (from qiskit) (0.19.2)\n",
            "Requirement already satisfied: qiskit-aer==0.11.1 in /usr/local/lib/python3.7/dist-packages (from qiskit) (0.11.1)\n",
            "Requirement already satisfied: qiskit-terra==0.22.2 in /usr/local/lib/python3.7/dist-packages (from qiskit) (0.22.2)\n",
            "Requirement already satisfied: scipy>=1.0 in /usr/local/lib/python3.7/dist-packages (from qiskit-aer==0.11.1->qiskit) (1.7.3)\n",
            "Requirement already satisfied: numpy>=1.16.3 in /usr/local/lib/python3.7/dist-packages (from qiskit-aer==0.11.1->qiskit) (1.21.6)\n",
            "Requirement already satisfied: websocket-client>=1.0.1 in /usr/local/lib/python3.7/dist-packages (from qiskit-ibmq-provider==0.19.2->qiskit) (1.4.2)\n",
            "Requirement already satisfied: python-dateutil>=2.8.0 in /usr/local/lib/python3.7/dist-packages (from qiskit-ibmq-provider==0.19.2->qiskit) (2.8.2)\n",
            "Requirement already satisfied: urllib3>=1.21.1 in /usr/local/lib/python3.7/dist-packages (from qiskit-ibmq-provider==0.19.2->qiskit) (1.24.3)\n",
            "Requirement already satisfied: requests-ntlm>=1.1.0 in /usr/local/lib/python3.7/dist-packages (from qiskit-ibmq-provider==0.19.2->qiskit) (1.1.0)\n",
            "Requirement already satisfied: websockets>=10.0 in /usr/local/lib/python3.7/dist-packages (from qiskit-ibmq-provider==0.19.2->qiskit) (10.4)\n",
            "Requirement already satisfied: requests>=2.19 in /usr/local/lib/python3.7/dist-packages (from qiskit-ibmq-provider==0.19.2->qiskit) (2.23.0)\n",
            "Requirement already satisfied: psutil>=5 in /usr/local/lib/python3.7/dist-packages (from qiskit-terra==0.22.2->qiskit) (5.4.8)\n",
            "Requirement already satisfied: shared-memory38 in /usr/local/lib/python3.7/dist-packages (from qiskit-terra==0.22.2->qiskit) (0.1.2)\n",
            "Requirement already satisfied: retworkx>=0.11.0 in /usr/local/lib/python3.7/dist-packages (from qiskit-terra==0.22.2->qiskit) (0.12.0)\n",
            "Requirement already satisfied: ply>=3.10 in /usr/local/lib/python3.7/dist-packages (from qiskit-terra==0.22.2->qiskit) (3.11)\n",
            "Requirement already satisfied: importlib-metadata<5.0 in /usr/local/lib/python3.7/dist-packages (from qiskit-terra==0.22.2->qiskit) (4.13.0)\n",
            "Requirement already satisfied: symengine>=0.9 in /usr/local/lib/python3.7/dist-packages (from qiskit-terra==0.22.2->qiskit) (0.9.2)\n",
            "Requirement already satisfied: typing-extensions in /usr/local/lib/python3.7/dist-packages (from qiskit-terra==0.22.2->qiskit) (4.1.1)\n",
            "Requirement already satisfied: sympy>=1.3 in /usr/local/lib/python3.7/dist-packages (from qiskit-terra==0.22.2->qiskit) (1.7.1)\n",
            "Requirement already satisfied: stevedore>=3.0.0 in /usr/local/lib/python3.7/dist-packages (from qiskit-terra==0.22.2->qiskit) (3.5.2)\n",
            "Requirement already satisfied: tweedledum<2.0,>=1.1 in /usr/local/lib/python3.7/dist-packages (from qiskit-terra==0.22.2->qiskit) (1.1.1)\n",
            "Requirement already satisfied: dill>=0.3 in /usr/local/lib/python3.7/dist-packages (from qiskit-terra==0.22.2->qiskit) (0.3.6)\n",
            "Requirement already satisfied: zipp>=0.5 in /usr/local/lib/python3.7/dist-packages (from importlib-metadata<5.0->qiskit-terra==0.22.2->qiskit) (3.10.0)\n",
            "Requirement already satisfied: six>=1.5 in /usr/local/lib/python3.7/dist-packages (from python-dateutil>=2.8.0->qiskit-ibmq-provider==0.19.2->qiskit) (1.15.0)\n",
            "Requirement already satisfied: certifi>=2017.4.17 in /usr/local/lib/python3.7/dist-packages (from requests>=2.19->qiskit-ibmq-provider==0.19.2->qiskit) (2022.9.24)\n",
            "Requirement already satisfied: chardet<4,>=3.0.2 in /usr/local/lib/python3.7/dist-packages (from requests>=2.19->qiskit-ibmq-provider==0.19.2->qiskit) (3.0.4)\n",
            "Requirement already satisfied: idna<3,>=2.5 in /usr/local/lib/python3.7/dist-packages (from requests>=2.19->qiskit-ibmq-provider==0.19.2->qiskit) (2.10)\n",
            "Requirement already satisfied: cryptography>=1.3 in /usr/local/lib/python3.7/dist-packages (from requests-ntlm>=1.1.0->qiskit-ibmq-provider==0.19.2->qiskit) (38.0.3)\n",
            "Requirement already satisfied: ntlm-auth>=1.0.2 in /usr/local/lib/python3.7/dist-packages (from requests-ntlm>=1.1.0->qiskit-ibmq-provider==0.19.2->qiskit) (1.5.0)\n",
            "Requirement already satisfied: cffi>=1.12 in /usr/local/lib/python3.7/dist-packages (from cryptography>=1.3->requests-ntlm>=1.1.0->qiskit-ibmq-provider==0.19.2->qiskit) (1.15.1)\n",
            "Requirement already satisfied: pycparser in /usr/local/lib/python3.7/dist-packages (from cffi>=1.12->cryptography>=1.3->requests-ntlm>=1.1.0->qiskit-ibmq-provider==0.19.2->qiskit) (2.21)\n",
            "Requirement already satisfied: rustworkx==0.12.0 in /usr/local/lib/python3.7/dist-packages (from retworkx>=0.11.0->qiskit-terra==0.22.2->qiskit) (0.12.0)\n",
            "Requirement already satisfied: pbr!=2.1.0,>=2.0.0 in /usr/local/lib/python3.7/dist-packages (from stevedore>=3.0.0->qiskit-terra==0.22.2->qiskit) (5.11.0)\n",
            "Requirement already satisfied: mpmath>=0.19 in /usr/local/lib/python3.7/dist-packages (from sympy>=1.3->qiskit-terra==0.22.2->qiskit) (1.2.1)\n",
            "Looking in indexes: https://pypi.org/simple, https://us-python.pkg.dev/colab-wheels/public/simple/\n",
            "\u001b[31mERROR: Could not find a version that satisfies the requirement platexenc (from versions: none)\u001b[0m\n",
            "\u001b[31mERROR: No matching distribution found for platexenc\u001b[0m\n"
          ]
        }
      ],
      "source": [
        "!pip install qiskit\n",
        "!pip install platexenc"
      ]
    },
    {
      "cell_type": "code",
      "source": [
        "from google.colab import drive\n",
        "drive.mount('/content/drive')"
      ],
      "metadata": {
        "colab": {
          "base_uri": "https://localhost:8080/"
        },
        "id": "rgbRZnsv9iX8",
        "outputId": "dc05e90f-4eda-4fea-e05a-d9d4b619c565"
      },
      "id": "rgbRZnsv9iX8",
      "execution_count": 2,
      "outputs": [
        {
          "output_type": "stream",
          "name": "stdout",
          "text": [
            "Drive already mounted at /content/drive; to attempt to forcibly remount, call drive.mount(\"/content/drive\", force_remount=True).\n"
          ]
        }
      ]
    },
    {
      "cell_type": "code",
      "execution_count": 35,
      "id": "5fbea005-6258-406c-8675-e5fa9b55c9a7",
      "metadata": {
        "colab": {
          "base_uri": "https://localhost:8080/"
        },
        "id": "5fbea005-6258-406c-8675-e5fa9b55c9a7",
        "outputId": "1ce0a090-b112-4ca6-9816-4f7110c0c181"
      },
      "outputs": [
        {
          "output_type": "stream",
          "name": "stdout",
          "text": [
            "(100, 64) (100,)\n"
          ]
        }
      ],
      "source": [
        "import numpy as np\n",
        "X1 = np.load('drive/MyDrive/fmnist_train_feat.npy')[0:100]\n",
        "y1 = np.load('drive/MyDrive/fmnist_train_Label.npy')[0:100]\n",
        "X2 = np.load('drive/MyDrive/fmnist_test_feat.npy')[0:50]\n",
        "y2 = np.load('drive/MyDrive/fmnist_test_Label.npy')[0:50]\n",
        "print(X1.shape, y1.shape)"
      ]
    },
    {
      "cell_type": "code",
      "execution_count": 36,
      "id": "c6c36848-bb91-4be1-964c-c54d2c671c2f",
      "metadata": {
        "id": "c6c36848-bb91-4be1-964c-c54d2c671c2f"
      },
      "outputs": [],
      "source": [
        "from qiskit.circuit import Parameter, QuantumCircuit\n",
        "\n",
        "def fraxis_gate(nx, ny, nz=None):\n",
        "    nx, ny, nz = _validate(nx, ny, nz)\n",
        "    theta = 2*(np.arccos(nz))\n",
        "    phi = None\n",
        "    if nx==0:\n",
        "      phi=np.pi/2\n",
        "    else:\n",
        "      phi=np.arctan2(ny, nx)\n",
        "    circ = QuantumCircuit(1)\n",
        "    \n",
        "    circ.u(theta,phi,np.pi-phi,[0])\n",
        "    return circ\n",
        "\n",
        "def _validate(nx, ny, nz=None):\n",
        "    assert nx**2+ny**2<=1, print(nx,ny)\n",
        "    if nz == None:\n",
        "        nx = nx.real\n",
        "        ny = ny.real\n",
        "        nz2 = 1-nx**2.-ny**2.\n",
        "        nz = np.sqrt(nz2).real if nz2>0 else 0\n",
        "    return nx, ny, nz"
      ]
    },
    {
      "cell_type": "code",
      "execution_count": 22,
      "id": "c6f35986-a59f-4e6f-86a2-7fac1a576788",
      "metadata": {
        "id": "c6f35986-a59f-4e6f-86a2-7fac1a576788"
      },
      "outputs": [],
      "source": [
        "def FraxisFeatureMap(num_qubits, data):\n",
        "    circ = QuantumCircuit(num_qubits)\n",
        "    for i in range(\n",
        "        data.shape[0]//2\n",
        "    ):\n",
        "        circ.compose(fraxis_gate(data[2*i], data[2*i+1]), qubits=[i%num_qubits], inplace=True)\n",
        "        if (i+1)%num_qubits == 0:\n",
        "            for j in range(0,num_qubits,2):\n",
        "                if j+1 < num_qubits:\n",
        "                    circ.cz(j,j+1)\n",
        "            for j in range(1,num_qubits,2):\n",
        "                if j+1 < num_qubits:\n",
        "                    circ.cz(j,j+1)        \n",
        "    return circ"
      ]
    },
    {
      "cell_type": "code",
      "execution_count": 23,
      "id": "2dcae1b1-016a-4ca4-9fed-4a8357172afb",
      "metadata": {
        "id": "2dcae1b1-016a-4ca4-9fed-4a8357172afb"
      },
      "outputs": [],
      "source": [
        "def FraxisAnsatz(num_qubits, params):\n",
        "    circ = QuantumCircuit(num_qubits)\n",
        "    for i in range(num_qubits):\n",
        "        circ.compose(fraxis_gate(params[i,0], params[i,1]), qubits=[i], inplace=True)\n",
        "    for j in range(0,num_qubits,2):\n",
        "        if j+1 < num_qubits:\n",
        "            circ.cz(j,j+1)\n",
        "    for j in range(1,num_qubits,2):\n",
        "        if j+1 < num_qubits:\n",
        "            circ.cz(j,j+1)        \n",
        "    return circ"
      ]
    },
    {
      "cell_type": "code",
      "execution_count": 24,
      "id": "496e2b80-40d8-4d53-9324-964c442af25c",
      "metadata": {
        "id": "496e2b80-40d8-4d53-9324-964c442af25c"
      },
      "outputs": [],
      "source": [
        "def replace_FraxisAnsatz(num_qubits, target, params):\n",
        "    circX = QuantumCircuit(num_qubits)\n",
        "    circY = QuantumCircuit(num_qubits)\n",
        "    circZ = QuantumCircuit(num_qubits)\n",
        "    circXY = QuantumCircuit(num_qubits)\n",
        "    circXZ = QuantumCircuit(num_qubits)\n",
        "    circYZ = QuantumCircuit(num_qubits)\n",
        "    for i in range(target):\n",
        "        circX.compose(fraxis_gate(params[i,0], params[i,1]), qubits=[i], inplace=True)\n",
        "        circY.compose(fraxis_gate(params[i,0], params[i,1]), qubits=[i], inplace=True)\n",
        "        circZ.compose(fraxis_gate(params[i,0], params[i,1]), qubits=[i], inplace=True)\n",
        "        circXY.compose(fraxis_gate(params[i,0], params[i,1]), qubits=[i], inplace=True)\n",
        "        circXZ.compose(fraxis_gate(params[i,0], params[i,1]), qubits=[i], inplace=True)\n",
        "        circYZ.compose(fraxis_gate(params[i,0], params[i,1]), qubits=[i], inplace=True)\n",
        "    circX.x(target)\n",
        "    circY.y(target)\n",
        "    circZ.z(target)\n",
        "    circXY.u(np.pi, np.pi*0.25, np.pi*0.75, target)\n",
        "    circXZ.u(np.pi*0.5, 0, np.pi, target)\n",
        "    circYZ.u(np.pi*0.5, np.pi*0.5, np.pi*0.5, target)\n",
        "    for i in range(target+1, num_qubits, 1):\n",
        "        circX.compose(fraxis_gate(params[i,0], params[i,1]), qubits=[i], inplace=True)\n",
        "        circY.compose(fraxis_gate(params[i,0], params[i,1]), qubits=[i], inplace=True)\n",
        "        circZ.compose(fraxis_gate(params[i,0], params[i,1]), qubits=[i], inplace=True)\n",
        "        circXY.compose(fraxis_gate(params[i,0], params[i,1]), qubits=[i], inplace=True)\n",
        "        circXZ.compose(fraxis_gate(params[i,0], params[i,1]), qubits=[i], inplace=True)\n",
        "        circYZ.compose(fraxis_gate(params[i,0], params[i,1]), qubits=[i], inplace=True)\n",
        "    for j in range(0,num_qubits,2):\n",
        "        if j+1 < num_qubits:\n",
        "            circX.cz(j,j+1)\n",
        "            circY.cz(j,j+1)\n",
        "            circZ.cz(j,j+1)\n",
        "            circXY.cz(j,j+1)\n",
        "            circXZ.cz(j,j+1)\n",
        "            circYZ.cz(j,j+1)\n",
        "    for j in range(1,num_qubits,2):\n",
        "        if j+1 < num_qubits:\n",
        "            circX.cz(j,j+1)\n",
        "            circY.cz(j,j+1)\n",
        "            circZ.cz(j,j+1)\n",
        "            circXY.cz(j,j+1)\n",
        "            circXZ.cz(j,j+1)\n",
        "            circYZ.cz(j,j+1)\n",
        "    return [circX, circY, circZ, circXY, circXZ, circYZ]"
      ]
    },
    {
      "cell_type": "code",
      "execution_count": 37,
      "id": "ae3f1049-b68b-49d3-a132-a78eb36926c1",
      "metadata": {
        "id": "ae3f1049-b68b-49d3-a132-a78eb36926c1"
      },
      "outputs": [],
      "source": [
        "from qiskit.primitives import Sampler\n",
        "from qiskit.circuit import ClassicalRegister\n",
        "\n",
        "class FraxClassify_sim():\n",
        "    def __init__(self, n_qubits, layer_size, world_size, service):\n",
        "        self.n_qubits = n_qubits\n",
        "        self.layer_size = layer_size\n",
        "        self.params = np.zeros((layer_size, n_qubits, 2))\n",
        "        #np.zeros((layer_size, n_qubits, 2))\n",
        "        #np.random.rand(layer_size, n_qubits, 2)*2/3\n",
        "        #np.zeros((layer_size, n_qubits, 2)) + 1/np.sqrt(3)\n",
        "        self.world_size =world_size\n",
        "        self.service = service\n",
        "    def eval(self, X, y, sampler):\n",
        "        acc, score= 0,0\n",
        "        for a in range(X.shape[0]//self.world_size):\n",
        "            qc = QuantumCircuit(self.n_qubits*self.world_size)\n",
        "            feature_map = []\n",
        "            for b in range(self.world_size):\n",
        "                feature_map.append(FraxisFeatureMap(self.n_qubits, X[a*self.world_size+b]))\n",
        "            for b in range(self.layer_size):\n",
        "                for c in range(self.world_size):\n",
        "                    qc.compose(\n",
        "                        feature_map[c], \n",
        "                        qubits=range(self.n_qubits*c,self.n_qubits*(c+1),1), \n",
        "                        inplace=True)\n",
        "                    qc.compose(\n",
        "                        FraxisAnsatz(self.n_qubits, self.params[b]), \n",
        "                        qubits=range(self.n_qubits*c,self.n_qubits*(c+1),1), \n",
        "                        inplace=True\n",
        "                    )\n",
        "            \n",
        "            cr = ClassicalRegister(self.world_size)\n",
        "            qc.add_register(cr)\n",
        "            qc.measure(\n",
        "                range(0,self.world_size*self.n_qubits,self.n_qubits),\n",
        "                cr\n",
        "            )\n",
        "                    \n",
        "            result = sampler.run(\n",
        "                circuits=[qc],\n",
        "            ).result().quasi_dists\n",
        "            Zexp = np.zeros(self.world_size)\n",
        "            for bits in result[0]:\n",
        "                for e in range(self.world_size):\n",
        "                    if (bits>>(e))%2 == 1:\n",
        "                        Zexp[e] -= result[0][bits]\n",
        "                    else:\n",
        "                        Zexp[e] += result[0][bits]\n",
        "                        \n",
        "            acc += np.sum(np.where(y[self.world_size*a:self.world_size*(a+1)]*Zexp>0,1,0))\n",
        "            score += np.sum(y[self.world_size*a:self.world_size*(a+1)]*Zexp)\n",
        "        #print(acc, score*2)\n",
        "        return acc, score*2\n",
        "        \n",
        "    def fit_and_eval(self, X, y, X2, y2):\n",
        "        sampler = Sampler()\n",
        "        for a in range(self.layer_size):\n",
        "            for b in range(self.n_qubits):\n",
        "                R = np.zeros((3,3))\n",
        "                for c in range(y.shape[0]//self.world_size):\n",
        "                    feature_map = []\n",
        "                    for d in range(self.world_size):\n",
        "                        feature_map.append(FraxisFeatureMap(self.n_qubits, X[c*self.world_size+d]))\n",
        "                    qcs = []\n",
        "                    for d in range(6):\n",
        "                        qcs.append(QuantumCircuit(self.n_qubits*self.world_size))\n",
        "                    for d in range(a):\n",
        "                        for e in range(6):\n",
        "                            for f in range(self.world_size):\n",
        "                                qcs[e].compose(\n",
        "                                    feature_map[f], \n",
        "                                    qubits=range(self.n_qubits*f,self.n_qubits*(f+1),1), \n",
        "                                    inplace=True\n",
        "                                )\n",
        "                            \n",
        "                        original_ansatz = FraxisAnsatz(self.n_qubits, self.params[d])\n",
        "                        for e in range(6):\n",
        "                            for f in range(self.world_size):\n",
        "                                qcs[e].compose(\n",
        "                                    original_ansatz, \n",
        "                                    qubits=range(self.n_qubits*f,self.n_qubits*(f+1),1), \n",
        "                                    inplace=True\n",
        "                                )\n",
        "\n",
        "                    for d in range(6):\n",
        "                        for f in range(self.world_size):\n",
        "                            qcs[d].compose(\n",
        "                                feature_map[f], \n",
        "                                qubits=range(self.n_qubits*f,self.n_qubits*(f+1),1), \n",
        "                                inplace=True\n",
        "                            )\n",
        "                        \n",
        "                    ansatzs = replace_FraxisAnsatz(self.n_qubits, b, self.params[a])\n",
        "                    for d in range(6):\n",
        "                        for f in range(self.world_size):\n",
        "                            qcs[d].compose(\n",
        "                                ansatzs[d], \n",
        "                                qubits=range(self.n_qubits*f,self.n_qubits*(f+1),1), \n",
        "                                inplace=True\n",
        "                            )\n",
        "                                        \n",
        "                    for d in range(a+1,self.layer_size,1):\n",
        "                        for e in range(6):\n",
        "                            for f in range(self.world_size):\n",
        "                                qcs[e].compose(\n",
        "                                    feature_map[f], \n",
        "                                    qubits=range(self.n_qubits*f,self.n_qubits*(f+1),1), \n",
        "                                    inplace=True\n",
        "                                )\n",
        "                            \n",
        "                        original_ansatz = FraxisAnsatz(self.n_qubits, self.params[d])\n",
        "                        for e in range(6):\n",
        "                            for f in range(self.world_size):\n",
        "                                qcs[e].compose(\n",
        "                                    original_ansatz, \n",
        "                                    qubits=range(self.n_qubits*f,self.n_qubits*(f+1),1), \n",
        "                                    inplace=True\n",
        "                                )\n",
        "\n",
        "                    for d in range(6):\n",
        "                        cr = ClassicalRegister(self.world_size)\n",
        "                        qcs[d].add_register(cr)\n",
        "                        qcs[d].measure(\n",
        "                            range(0,self.world_size*self.n_qubits,self.n_qubits),\n",
        "                            cr\n",
        "                        )\n",
        "                    result = sampler.run(\n",
        "                        circuits=qcs,\n",
        "                    ).result().quasi_dists\n",
        "\n",
        "                    r6s = np.zeros((6,self.world_size))\n",
        "                    for d in range(6):\n",
        "                        #print(result[d])\n",
        "                        for bits in result[d]:\n",
        "                            for e in range(self.world_size):\n",
        "                                if (bits>>(e))%2 == 1:\n",
        "                                    r6s[d, e] -= result[d][bits]\n",
        "                                else:\n",
        "                                    r6s[d, e] += result[d][bits]\n",
        "                                    \n",
        "                    R[0,0] += np.sum(y[c*self.world_size:(c+1)*self.world_size] * 2 * r6s[0])\n",
        "                    R[0,1] += np.sum(y[c*self.world_size:(c+1)*self.world_size] * (2 * r6s[3] - r6s[0] - r6s[1]))\n",
        "                    R[0,2] += np.sum(y[c*self.world_size:(c+1)*self.world_size] * (2 * r6s[4] - r6s[0] - r6s[2]))\n",
        "                    R[1,1] += np.sum(y[c*self.world_size:(c+1)*self.world_size] * 2 * r6s[1])\n",
        "                    R[1,2] += np.sum(y[c*self.world_size:(c+1)*self.world_size] * (2 * r6s[5] - r6s[1] - r6s[2]))\n",
        "                    R[2,2] += np.sum(y[c*self.world_size:(c+1)*self.world_size] * 2 * r6s[2])\n",
        "                R[1,0] = R[0,1]\n",
        "                R[2,0] = R[0,2]\n",
        "                R[2,1] = R[1,2]\n",
        "\n",
        "                eigenvalues, eigenvectors = np.linalg.eigh(R)\n",
        "                \n",
        "                self.params[a,b,:] = eigenvectors[0:2,np.argmax(eigenvalues)]\n",
        "                \n",
        "                print(np.max(eigenvalues))\n",
        "                #print(self.params)\n",
        "                acc1, sc1 = self.eval(X,y,sampler)\n",
        "                self.params[a,b,:] *= -1\n",
        "                acc2, sc2 = self.eval(X,y,sampler)\n",
        "                if sc1 > sc2:\n",
        "                  print('ACC_train: ',acc1,'SCORE_train: ',sc1)\n",
        "                  self.params[a,b,:] *= -1\n",
        "                else:\n",
        "                  print('ACC_train: ',acc2,'\\nSCORE_train: ', sc2)\n",
        "                acc1, sc1 = self.eval(X2,y2,sampler)\n",
        "                print('ACC_test: ',acc1,'\\nSCORE_test: ',sc1)"
      ]
    },
    {
      "cell_type": "code",
      "execution_count": null,
      "id": "f088bb7b-3f6e-4e51-94f3-76c28111ebc0",
      "metadata": {
        "colab": {
          "base_uri": "https://localhost:8080/"
        },
        "id": "f088bb7b-3f6e-4e51-94f3-76c28111ebc0",
        "outputId": "7cec1bc6-24e9-4ac4-a8c1-8e3133fe3256"
      },
      "outputs": [
        {
          "output_type": "stream",
          "name": "stdout",
          "text": [
            "17.99904105913865\n",
            "ACC_train:  50 \n",
            "SCORE_train:  17.99904105913864\n",
            "ACC_test:  28 \n",
            "SCORE_test:  20.36614303429389\n",
            "35.29802948442014\n",
            "ACC:  52 SCORE:  35.29802948442011\n",
            "ACC_test:  28 \n",
            "SCORE_test:  28.082827127163753\n",
            "46.762009973502025\n",
            "ACC_train:  57 \n",
            "SCORE_train:  46.76200997350204\n",
            "ACC_test:  31 \n",
            "SCORE_test:  35.116490984177425\n",
            "51.519108006374985\n",
            "ACC:  60 SCORE:  51.51910800637493\n",
            "ACC_test:  31 \n",
            "SCORE_test:  37.78662141430898\n"
          ]
        }
      ],
      "source": [
        "model = FraxClassify_sim(4, 3, 1, None)\n",
        "for i in range(3):\n",
        "    model.fit_and_eval(X1, y1, X2, y2)\n",
        "    print('_______________NEW________________')"
      ]
    },
    {
      "cell_type": "code",
      "source": [
        "import qiskit.quantum_info as qi\n",
        "nxs=np.linspace(-0.2,0.2,100)\n",
        "nys=np.linspace(-0.2,0.2,100)\n",
        "#nxs=[0.4,0.5,0.6]\n",
        "#nys=[-0.4,-0.5,-0.6]\n",
        "X=np.array([[0,1],[1,0]])\n",
        "Y=np.array([[0,-1j],[1j,0]])\n",
        "Z=np.array([[1,0],[0,-1]])\n",
        "np.set_printoptions(precision=3,suppress=True)\n",
        "for nx in range(100):\n",
        "  for ny in range(100):\n",
        "    circ=fraxis_gate(nxs[nx],nys[ny])\n",
        "    op = qi.Operator(circ)\n",
        "    #print(nx,ny)\n",
        "    nxx,nyy,nzz=_validate(nxs[nx],nys[ny])\n",
        "    assert np.abs(np.sum((nxx*X+nyy*Y+nzz*Z)-op.data))<1e-10, print(op.data, nxx*X+nyy*Y+nzz*Z)\n",
        "    #print(np.abs(np.sum((nx*X+ny*Y+nz*Z)-op.data)))\n",
        "    #print(op.data,'\\n')"
      ],
      "metadata": {
        "id": "NOyqJVAa6R4C"
      },
      "id": "NOyqJVAa6R4C",
      "execution_count": null,
      "outputs": []
    },
    {
      "cell_type": "code",
      "source": [],
      "metadata": {
        "id": "vDjMUqPIBp7u"
      },
      "id": "vDjMUqPIBp7u",
      "execution_count": null,
      "outputs": []
    }
  ],
  "metadata": {
    "kernelspec": {
      "display_name": "Python 3 (ipykernel)",
      "language": "python",
      "name": "python3"
    },
    "language_info": {
      "codemirror_mode": {
        "name": "ipython",
        "version": 3
      },
      "file_extension": ".py",
      "mimetype": "text/x-python",
      "name": "python",
      "nbconvert_exporter": "python",
      "pygments_lexer": "ipython3",
      "version": "3.8.13"
    },
    "colab": {
      "provenance": [],
      "include_colab_link": true
    }
  },
  "nbformat": 4,
  "nbformat_minor": 5
}