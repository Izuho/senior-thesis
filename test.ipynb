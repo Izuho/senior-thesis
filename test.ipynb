{
  "nbformat": 4,
  "nbformat_minor": 0,
  "metadata": {
    "colab": {
      "provenance": [],
      "collapsed_sections": []
    },
    "kernelspec": {
      "name": "python3",
      "display_name": "Python 3"
    },
    "language_info": {
      "name": "python"
    }
  },
  "cells": [
    {
      "cell_type": "code",
      "source": [
        "import numpy as np\n",
        "import torch\n",
        "from math import sqrt\n",
        "train_data = np.random.rand(2,100)\n",
        "train_label = np.where(train_data[0] * train_data[1] < 0.25, -1, 1)\n",
        "def Frax(n):\n",
        "    axis = n / torch.norm(n)\n",
        "    gate = torch.zeros((2, 2), dtype=torch.complex64)\n",
        "    gate[0, 0], gate[0, 1], gate[1, 0], gate[1, 1] = -axis[2]*1j, -axis[0]*1j-axis[1], -axis[0]*1j+axis[1], axis[2]*1j\n",
        "    return gate\n",
        "def amplitude_embedding(data1, data2): \n",
        "    ans = torch.tensor([data1,data2]).to(torch.complex64)\n",
        "    return ans / torch.norm(ans)\n",
        "X = torch.tensor([[0,1],[1,0]], dtype=torch.complex64)\n",
        "Y = torch.tensor([[0,-1j],[1j,0]], dtype=torch.complex64)\n",
        "Z = torch.tensor([[1,0],[0,-1]], dtype=torch.complex64)\n",
        "XY = (X+Y)/sqrt(2)\n",
        "XZ = (X+Z)/sqrt(2)\n",
        "YZ = (Y+Z)/sqrt(2)\n",
        "def lastbit_Z(state):\n",
        "    return torch.sum(state[0:len(state):2].abs()**2)-torch.sum(state[1:len(state):2].abs()**2)\n",
        "def predict(n1, n2, write=False):\n",
        "    predict = []\n",
        "    acc = 0\n",
        "    score = 0\n",
        "    for i in range(100):\n",
        "        data = amplitude_embedding(train_data[0,i], train_data[1,i])\n",
        "        predict.append(lastbit_Z(Frax(n2) @ Frax(n1) @ data))\n",
        "        score += train_label[i] * predict[-1]\n",
        "        if predict[-1] * train_label[i] > 0:\n",
        "            acc += 1\n",
        "    if write:\n",
        "        print('Accuracy : ', acc / 100)\n",
        "        print('Score : ', score)\n",
        "        print(n1)\n",
        "        print(n2)\n",
        "    return score"
      ],
      "metadata": {
        "id": "FVRbO6iXzJym"
      },
      "execution_count": 67,
      "outputs": []
    },
    {
      "cell_type": "code",
      "source": [
        "def optimize(which, n1, n2, write=False):\n",
        "    R = torch.zeros((3,3))\n",
        "    for i in range(100):\n",
        "        x = amplitude_embedding(train_data[0,i], train_data[1,i])\n",
        "        if which == 'n1':\n",
        "            rx = Frax(n2) @ X @ x\n",
        "            ry = Frax(n2) @ Y @ x\n",
        "            rz = Frax(n2) @ Z @ x\n",
        "            rxy = Frax(n2) @ XY @ x\n",
        "            rxz = Frax(n2) @ XZ @ x\n",
        "            ryz = Frax(n2) @ YZ @ x\n",
        "        else:\n",
        "            rx = X @ Frax(n1) @ x\n",
        "            ry = Y @ Frax(n1) @ x\n",
        "            rz = Z @ Frax(n1) @ x\n",
        "            rxy = XY @ Frax(n1) @ x\n",
        "            rxz = XZ @ Frax(n1) @ x\n",
        "            ryz = YZ @ Frax(n1) @ x\n",
        "        rx = lastbit_Z(rx)\n",
        "        ry = lastbit_Z(ry)\n",
        "        rz = lastbit_Z(rz)\n",
        "        rxy = lastbit_Z(rxy)\n",
        "        rxz = lastbit_Z(rxz)\n",
        "        ryz = lastbit_Z(ryz)\n",
        "        R[0,0] += train_label[i] * (2 * rx)\n",
        "        R[0,1] += train_label[i] * (2 * rxy - rx - ry)\n",
        "        R[0,2] += train_label[i] * (2 * rxz - rx - rz)\n",
        "        R[1,1] += train_label[i] * (2 * ry)\n",
        "        R[1,2] += train_label[i] * (2 * ryz - ry - rz)\n",
        "        R[2,2] += train_label[i] * (2 * rz)\n",
        "    R[1,0] = R[0,1]\n",
        "    R[2,0] = R[0,2]\n",
        "    R[2,1] = R[1,2]\n",
        "    eigenvalues, eigenvectors = torch.linalg.eigh(R)\n",
        "    if which == 'n1':\n",
        "        predict(eigenvectors[0], n2, write=True)\n",
        "        predict(eigenvectors[1], n2, write=True)\n",
        "        predict(eigenvectors[2], n2, write=True)\n",
        "    else:\n",
        "        predict(n1, eigenvectors[0], write=True)\n",
        "        predict(n1, eigenvectors[1], write=True)\n",
        "        predict(n1, eigenvectors[2], write=True)"
      ],
      "metadata": {
        "id": "b1XMocc5JgzT"
      },
      "execution_count": 66,
      "outputs": []
    },
    {
      "cell_type": "code",
      "source": [
        "n1 = torch.zeros(3)+1/sqrt(3)\n",
        "n2 = torch.zeros(3)+1/sqrt(3)\n",
        "\n",
        "score_base = predict(n1, n2, write=True)"
      ],
      "metadata": {
        "colab": {
          "base_uri": "https://localhost:8080/"
        },
        "id": "vAmPBbipHtqN",
        "outputId": "873051c7-75e3-4111-ea11-1aaf46712589"
      },
      "execution_count": 69,
      "outputs": [
        {
          "output_type": "stream",
          "name": "stdout",
          "text": [
            "Accuracy :  0.49\n",
            "Score :  tensor(-2.9195)\n",
            "tensor([0.5774, 0.5774, 0.5774])\n",
            "tensor([0.5774, 0.5774, 0.5774])\n"
          ]
        }
      ]
    },
    {
      "cell_type": "code",
      "source": [
        "optimize('n1', n1, n2, write=True)"
      ],
      "metadata": {
        "colab": {
          "base_uri": "https://localhost:8080/"
        },
        "id": "yU3zQNUeH2dc",
        "outputId": "79c6f595-fc41-49c6-b3b2-97ef69386749"
      },
      "execution_count": 70,
      "outputs": [
        {
          "output_type": "stream",
          "name": "stdout",
          "text": [
            "Accuracy :  0.37\n",
            "Score :  tensor(-6.1666)\n",
            "tensor([-0.9204, -0.3090,  0.2395])\n",
            "tensor([0.5774, 0.5774, 0.5774])\n",
            "Accuracy :  0.61\n",
            "Score :  tensor(6.8603)\n",
            "tensor([-0.3885,  0.6542, -0.6489])\n",
            "tensor([0.5774, 0.5774, 0.5774])\n",
            "Accuracy :  0.51\n",
            "Score :  tensor(2.6818)\n",
            "tensor([-0.0438,  0.6904,  0.7221])\n",
            "tensor([0.5774, 0.5774, 0.5774])\n"
          ]
        }
      ]
    },
    {
      "cell_type": "code",
      "source": [
        "M = 500\n",
        "nrand = torch.rand(M, 3)\n",
        "max_score = score_base\n",
        "for i in range(M):\n",
        "    score = predict(nrand[i], n2, write=False)\n",
        "    if max_score < score:\n",
        "        max_score = score\n",
        "print(max_score)"
      ],
      "metadata": {
        "colab": {
          "base_uri": "https://localhost:8080/"
        },
        "id": "C9c_OksXH9KC",
        "outputId": "fd99357d-86b8-4b85-ab16-5a995b38f8f1"
      },
      "execution_count": 71,
      "outputs": [
        {
          "output_type": "stream",
          "name": "stdout",
          "text": [
            "tensor(5.2644)\n"
          ]
        }
      ]
    },
    {
      "cell_type": "code",
      "source": [],
      "metadata": {
        "id": "WaDFJoyxOdBI"
      },
      "execution_count": null,
      "outputs": []
    }
  ]
}