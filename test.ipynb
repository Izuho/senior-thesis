{
  "nbformat": 4,
  "nbformat_minor": 0,
  "metadata": {
    "colab": {
      "provenance": [],
      "collapsed_sections": []
    },
    "kernelspec": {
      "name": "python3",
      "display_name": "Python 3"
    },
    "language_info": {
      "name": "python"
    }
  },
  "cells": [
    {
      "cell_type": "code",
      "source": [
        "import numpy as np\n",
        "import torch\n",
        "from math import sqrt\n",
        "DATA_SIZE = 100\n",
        "np.random.seed(seed=10)\n",
        "train_data = np.random.rand(2,DATA_SIZE)\n",
        "train_label = np.where(train_data[0] * train_data[1] < 0.25, -1, 1)\n",
        "def Frax(n):\n",
        "    axis = n / torch.norm(n)\n",
        "    return n[0] * X + n[1] * Y + n[2] * Z\n",
        "def amplitude_embedding(data1, data2): \n",
        "    ans = torch.tensor([data1,data2]).to(torch.complex64)\n",
        "    return ans / torch.norm(ans)\n",
        "X = torch.tensor([[0,1],[1,0]], dtype=torch.complex64)\n",
        "Y = torch.tensor([[0,-1j],[1j,0]], dtype=torch.complex64)\n",
        "Z = torch.tensor([[1,0],[0,-1]], dtype=torch.complex64)\n",
        "XY = (X+Y)/sqrt(2)\n",
        "XZ = (X+Z)/sqrt(2)\n",
        "YZ = (Y+Z)/sqrt(2)\n",
        "def lastbit_Z(state):\n",
        "    return 2 * (torch.norm(state[0:len(state):2])**2) - 1\n",
        "def predict(n1, n2):\n",
        "    acc = 0\n",
        "    score = 0\n",
        "    for i in range(DATA_SIZE):\n",
        "        data = amplitude_embedding(train_data[0,i], train_data[1,i])\n",
        "        score += lastbit_Z(torch.mv(Frax(n2), torch.mv(Frax(n1), data))) * train_label[i]\n",
        "        if lastbit_Z(torch.mv(Frax(n2), torch.mv(Frax(n1), data))) * train_label[i] > 0:\n",
        "            acc += 1\n",
        "    return acc / DATA_SIZE, score * 2"
      ],
      "metadata": {
        "id": "FVRbO6iXzJym"
      },
      "execution_count": 8,
      "outputs": []
    },
    {
      "cell_type": "code",
      "source": [
        "def optimize(which, n1, n2):\n",
        "    R = torch.zeros((3,3))\n",
        "    for i in range(DATA_SIZE):\n",
        "        x = amplitude_embedding(train_data[0,i], train_data[1,i])\n",
        "        if which == 'n1':\n",
        "            rx = Frax(n2) @ X @ x\n",
        "            ry = Frax(n2) @ Y @ x\n",
        "            rz = Frax(n2) @ Z @ x\n",
        "            rxy = Frax(n2) @ XY @ x\n",
        "            rxz = Frax(n2) @ XZ @ x\n",
        "            ryz = Frax(n2) @ YZ @ x\n",
        "        else:\n",
        "            rx = X @ Frax(n1) @ x\n",
        "            ry = Y @ Frax(n1) @ x\n",
        "            rz = Z @ Frax(n1) @ x\n",
        "            rxy = XY @ Frax(n1) @ x\n",
        "            rxz = XZ @ Frax(n1) @ x\n",
        "            ryz = YZ @ Frax(n1) @ x\n",
        "        rx = lastbit_Z(rx)\n",
        "        ry = lastbit_Z(ry)\n",
        "        rz = lastbit_Z(rz)\n",
        "        rxy = lastbit_Z(rxy)\n",
        "        rxz = lastbit_Z(rxz)\n",
        "        ryz = lastbit_Z(ryz)\n",
        "        R[0,0] += train_label[i] * (2 * rx)\n",
        "        R[0,1] += train_label[i] * (2 * rxy - rx - ry)\n",
        "        R[0,2] += train_label[i] * (2 * rxz - rx - rz)\n",
        "        R[1,1] += train_label[i] * (2 * ry)\n",
        "        R[1,2] += train_label[i] * (2 * ryz - ry - rz)\n",
        "        R[2,2] += train_label[i] * (2 * rz)\n",
        "    R[1,0] = R[0,1]\n",
        "    R[2,0] = R[0,2]\n",
        "    R[2,1] = R[1,2]\n",
        "    #print(R)\n",
        "    eigenvalues, eigenvectors = torch.linalg.eigh(R)\n",
        "    return eigenvectors[:,torch.argmax(eigenvalues)], torch.max(eigenvalues)"
      ],
      "metadata": {
        "id": "b1XMocc5JgzT"
      },
      "execution_count": 9,
      "outputs": []
    },
    {
      "cell_type": "code",
      "source": [
        "n1 = (torch.zeros(3)+1/sqrt(3)).to(torch.complex64)\n",
        "n2 = (torch.zeros(3)+1/sqrt(3)).to(torch.complex64)\n",
        "\n",
        "acc = [predict(n1, n2)[0]]\n",
        "las = [predict(n1, n2)[1]]\n",
        "\n",
        "for i in range(25):\n",
        "    n1, la1 = optimize('n1', n1, n2)\n",
        "    acc.append(predict(n1, n2)[0])\n",
        "    assert abs(predict(n1, n2)[1] - la1) < 1e-2, 'Error {0}, {1}'.format(predict(n1, n2)[1], la1)\n",
        "    las.append(la1)\n",
        "    n2, la2 = optimize('n2', n1, n2)\n",
        "    acc.append(predict(n1, n2)[0])\n",
        "    assert abs(predict(n1, n2)[1] - la2) < 1e-2, 'Error {0}, {1}'.format(predict(n1, n2)[1], la2)\n",
        "    las.append(la2)"
      ],
      "metadata": {
        "id": "Cl2Fl12LwOcR"
      },
      "execution_count": 11,
      "outputs": []
    },
    {
      "cell_type": "code",
      "source": [
        "import matplotlib.pyplot as plt\n",
        "\n",
        "plt.plot(acc)"
      ],
      "metadata": {
        "colab": {
          "base_uri": "https://localhost:8080/",
          "height": 283
        },
        "id": "HNMiOT_m0Cvr",
        "outputId": "dbb57107-cac5-47a4-8a97-66a593ab0932"
      },
      "execution_count": 12,
      "outputs": [
        {
          "output_type": "execute_result",
          "data": {
            "text/plain": [
              "[<matplotlib.lines.Line2D at 0x7fed7b620d90>]"
            ]
          },
          "metadata": {},
          "execution_count": 12
        },
        {
          "output_type": "display_data",
          "data": {
            "text/plain": [
              "<Figure size 432x288 with 1 Axes>"
            ],
            "image/png": "[encoded data removed]"
          },
          "metadata": {
            "needs_background": "light"
          }
        }
      ]
    },
    {
      "cell_type": "code",
      "source": [
        "plt.plot(las)"
      ],
      "metadata": {
        "colab": {
          "base_uri": "https://localhost:8080/",
          "height": 283
        },
        "id": "fkc7JtrX0GWl",
        "outputId": "87e9a8e5-6698-4998-c918-4412492492ee"
      },
      "execution_count": 13,
      "outputs": [
        {
          "output_type": "execute_result",
          "data": {
            "text/plain": [
              "[<matplotlib.lines.Line2D at 0x7fed7b14f410>]"
            ]
          },
          "metadata": {},
          "execution_count": 13
        },
        {
          "output_type": "display_data",
          "data": {
            "text/plain": [
              "<Figure size 432x288 with 1 Axes>"
            ],
            "image/png": "[encoded data removed]"
          },
          "metadata": {
            "needs_background": "light"
          }
        }
      ]
    },
    {
      "cell_type": "code",
      "source": [
        "las"
      ],
      "metadata": {
        "colab": {
          "base_uri": "https://localhost:8080/"
        },
        "id": "XFyt6sCs5bf6",
        "outputId": "b2ac86a5-1f89-4be9-bb1d-dd5a62e75b98"
      },
      "execution_count": 14,
      "outputs": [
        {
          "output_type": "execute_result",
          "data": {
            "text/plain": [
              "[tensor(-13.2511),\n",
              " tensor(19.1716),\n",
              " tensor(19.1716),\n",
              " tensor(19.1716),\n",
              " tensor(19.1716),\n",
              " tensor(19.1716),\n",
              " tensor(19.1716),\n",
              " tensor(19.1716),\n",
              " tensor(19.1716),\n",
              " tensor(19.1716),\n",
              " tensor(19.1716),\n",
              " tensor(19.1716),\n",
              " tensor(19.1716),\n",
              " tensor(19.1716),\n",
              " tensor(19.1716),\n",
              " tensor(19.1716),\n",
              " tensor(19.1716),\n",
              " tensor(19.1716),\n",
              " tensor(19.1716),\n",
              " tensor(19.1716),\n",
              " tensor(19.1716),\n",
              " tensor(19.1716),\n",
              " tensor(19.1716),\n",
              " tensor(19.1716),\n",
              " tensor(19.1716),\n",
              " tensor(19.1716),\n",
              " tensor(19.1716),\n",
              " tensor(19.1716),\n",
              " tensor(19.1716),\n",
              " tensor(19.1716),\n",
              " tensor(19.1716),\n",
              " tensor(19.1716),\n",
              " tensor(19.1716),\n",
              " tensor(19.1716),\n",
              " tensor(19.1716),\n",
              " tensor(19.1716),\n",
              " tensor(19.1716),\n",
              " tensor(19.1716),\n",
              " tensor(19.1716),\n",
              " tensor(19.1716),\n",
              " tensor(19.1716),\n",
              " tensor(19.1716),\n",
              " tensor(19.1716),\n",
              " tensor(19.1716),\n",
              " tensor(19.1716),\n",
              " tensor(19.1716),\n",
              " tensor(19.1716),\n",
              " tensor(19.1716),\n",
              " tensor(19.1716),\n",
              " tensor(19.1716),\n",
              " tensor(19.1716)]"
            ]
          },
          "metadata": {},
          "execution_count": 14
        }
      ]
    },
    {
      "cell_type": "code",
      "source": [],
      "metadata": {
        "id": "v5M3KQVq5592"
      },
      "execution_count": null,
      "outputs": []
    }
  ]
}